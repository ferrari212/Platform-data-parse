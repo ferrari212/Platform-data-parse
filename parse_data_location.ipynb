{
 "cells": [
  {
   "cell_type": "markdown",
   "metadata": {},
   "source": [
    "# Parse the location data\n",
    "\n",
    "### This script separate the location data into the different sets"
   ]
  },
  {
   "cell_type": "code",
   "execution_count": 1,
   "metadata": {},
   "outputs": [],
   "source": [
    "import numpy as np\n",
    "import pandas as pd\n",
    "import matplotlib.pyplot as plt\n",
    "import matplotlib.pyplot as plt\n",
    "import math\n",
    "import os\n",
    "from array import *"
   ]
  },
  {
   "cell_type": "code",
   "execution_count": 2,
   "metadata": {},
   "outputs": [],
   "source": [
    "data = pd.read_csv('raw_data/IMO9371361_201810_SeapathGPSGga.csv', header=0, sep=\";\")"
   ]
  },
  {
   "cell_type": "code",
   "execution_count": 3,
   "metadata": {},
   "outputs": [
    {
     "name": "stdout",
     "output_type": "stream",
     "text": [
      "['uid', 'time_in_ms', 'UTC', 'Latitude', 'NorthSouth', 'Longitude', 'EastWest', 'Quality', 'NoOfSatellites', 'HorPrecision', 'AntennaAltitude', 'AntennaUnits', 'GeoidalSeparation', 'GeoidalUnits', 'DgpsAge', 'DiffRefStation', 'TelegramReceived']\n"
     ]
    }
   ],
   "source": [
    "print(list(data.columns.values))"
   ]
  },
  {
   "cell_type": "code",
   "execution_count": 4,
   "metadata": {},
   "outputs": [
    {
     "data": {
      "text/html": [
       "<div>\n",
       "<style scoped>\n",
       "    .dataframe tbody tr th:only-of-type {\n",
       "        vertical-align: middle;\n",
       "    }\n",
       "\n",
       "    .dataframe tbody tr th {\n",
       "        vertical-align: top;\n",
       "    }\n",
       "\n",
       "    .dataframe thead th {\n",
       "        text-align: right;\n",
       "    }\n",
       "</style>\n",
       "<table border=\"1\" class=\"dataframe\">\n",
       "  <thead>\n",
       "    <tr style=\"text-align: right;\">\n",
       "      <th></th>\n",
       "      <th>uid</th>\n",
       "      <th>time_in_ms</th>\n",
       "      <th>UTC</th>\n",
       "      <th>Latitude</th>\n",
       "      <th>NorthSouth</th>\n",
       "      <th>Longitude</th>\n",
       "      <th>EastWest</th>\n",
       "      <th>Quality</th>\n",
       "      <th>NoOfSatellites</th>\n",
       "      <th>HorPrecision</th>\n",
       "      <th>AntennaAltitude</th>\n",
       "      <th>AntennaUnits</th>\n",
       "      <th>GeoidalSeparation</th>\n",
       "      <th>GeoidalUnits</th>\n",
       "      <th>DgpsAge</th>\n",
       "      <th>DiffRefStation</th>\n",
       "      <th>TelegramReceived</th>\n",
       "    </tr>\n",
       "  </thead>\n",
       "  <tbody>\n",
       "    <tr>\n",
       "      <th>874397</th>\n",
       "      <td>61652778</td>\n",
       "      <td>1539226397409</td>\n",
       "      <td>25311.03</td>\n",
       "      <td>NaN</td>\n",
       "      <td>NaN</td>\n",
       "      <td>NaN</td>\n",
       "      <td>NaN</td>\n",
       "      <td>0</td>\n",
       "      <td>NaN</td>\n",
       "      <td>NaN</td>\n",
       "      <td>NaN</td>\n",
       "      <td>M</td>\n",
       "      <td>NaN</td>\n",
       "      <td>M</td>\n",
       "      <td>NaN</td>\n",
       "      <td>NaN</td>\n",
       "      <td>1</td>\n",
       "    </tr>\n",
       "    <tr>\n",
       "      <th>1391166</th>\n",
       "      <td>62169547</td>\n",
       "      <td>1539743167409</td>\n",
       "      <td>22600.87</td>\n",
       "      <td>NaN</td>\n",
       "      <td>NaN</td>\n",
       "      <td>NaN</td>\n",
       "      <td>NaN</td>\n",
       "      <td>0</td>\n",
       "      <td>NaN</td>\n",
       "      <td>NaN</td>\n",
       "      <td>NaN</td>\n",
       "      <td>M</td>\n",
       "      <td>NaN</td>\n",
       "      <td>M</td>\n",
       "      <td>NaN</td>\n",
       "      <td>NaN</td>\n",
       "      <td>1</td>\n",
       "    </tr>\n",
       "  </tbody>\n",
       "</table>\n",
       "</div>"
      ],
      "text/plain": [
       "              uid     time_in_ms       UTC  Latitude NorthSouth  Longitude  \\\n",
       "874397   61652778  1539226397409  25311.03       NaN        NaN        NaN   \n",
       "1391166  62169547  1539743167409  22600.87       NaN        NaN        NaN   \n",
       "\n",
       "        EastWest  Quality  NoOfSatellites  HorPrecision  AntennaAltitude  \\\n",
       "874397       NaN        0             NaN           NaN              NaN   \n",
       "1391166      NaN        0             NaN           NaN              NaN   \n",
       "\n",
       "        AntennaUnits  GeoidalSeparation GeoidalUnits  DgpsAge  DiffRefStation  \\\n",
       "874397             M                NaN            M      NaN             NaN   \n",
       "1391166            M                NaN            M      NaN             NaN   \n",
       "\n",
       "         TelegramReceived  \n",
       "874397                  1  \n",
       "1391166                 1  "
      ]
     },
     "metadata": {},
     "output_type": "display_data"
    }
   ],
   "source": [
    "display(data[data[\"Longitude\"].isnull()])"
   ]
  },
  {
   "cell_type": "code",
   "execution_count": 5,
   "metadata": {},
   "outputs": [],
   "source": [
    "df = pd.DataFrame(data)"
   ]
  },
  {
   "cell_type": "code",
   "execution_count": 6,
   "metadata": {},
   "outputs": [],
   "source": [
    "# Filtering NaN lines\n",
    "df['Longitude'] = pd.to_numeric(df['Longitude'], errors='coerce')\n",
    "df = df.dropna(subset=['Longitude'])\n",
    "# df['Longitude'] = df['Longitude'].astype(int)"
   ]
  },
  {
   "cell_type": "code",
   "execution_count": 7,
   "metadata": {},
   "outputs": [
    {
     "data": {
      "text/html": [
       "<div>\n",
       "<style scoped>\n",
       "    .dataframe tbody tr th:only-of-type {\n",
       "        vertical-align: middle;\n",
       "    }\n",
       "\n",
       "    .dataframe tbody tr th {\n",
       "        vertical-align: top;\n",
       "    }\n",
       "\n",
       "    .dataframe thead th {\n",
       "        text-align: right;\n",
       "    }\n",
       "</style>\n",
       "<table border=\"1\" class=\"dataframe\">\n",
       "  <thead>\n",
       "    <tr style=\"text-align: right;\">\n",
       "      <th></th>\n",
       "      <th>uid</th>\n",
       "      <th>time_in_ms</th>\n",
       "      <th>UTC</th>\n",
       "      <th>Latitude</th>\n",
       "      <th>NorthSouth</th>\n",
       "      <th>Longitude</th>\n",
       "      <th>EastWest</th>\n",
       "      <th>Quality</th>\n",
       "      <th>NoOfSatellites</th>\n",
       "      <th>HorPrecision</th>\n",
       "      <th>AntennaAltitude</th>\n",
       "      <th>AntennaUnits</th>\n",
       "      <th>GeoidalSeparation</th>\n",
       "      <th>GeoidalUnits</th>\n",
       "      <th>DgpsAge</th>\n",
       "      <th>DiffRefStation</th>\n",
       "      <th>TelegramReceived</th>\n",
       "    </tr>\n",
       "  </thead>\n",
       "  <tbody>\n",
       "    <tr>\n",
       "      <th>0</th>\n",
       "      <td>60778381</td>\n",
       "      <td>1538352000409</td>\n",
       "      <td>235955.15</td>\n",
       "      <td>6326.321921</td>\n",
       "      <td>N</td>\n",
       "      <td>1024.551737</td>\n",
       "      <td>E</td>\n",
       "      <td>2</td>\n",
       "      <td>12.0</td>\n",
       "      <td>0.7</td>\n",
       "      <td>3.38</td>\n",
       "      <td>M</td>\n",
       "      <td>40.95</td>\n",
       "      <td>M</td>\n",
       "      <td>7.0</td>\n",
       "      <td>1007.0</td>\n",
       "      <td>1</td>\n",
       "    </tr>\n",
       "    <tr>\n",
       "      <th>1</th>\n",
       "      <td>60778382</td>\n",
       "      <td>1538352001409</td>\n",
       "      <td>235956.15</td>\n",
       "      <td>6326.321918</td>\n",
       "      <td>N</td>\n",
       "      <td>1024.551734</td>\n",
       "      <td>E</td>\n",
       "      <td>2</td>\n",
       "      <td>12.0</td>\n",
       "      <td>0.7</td>\n",
       "      <td>3.37</td>\n",
       "      <td>M</td>\n",
       "      <td>40.95</td>\n",
       "      <td>M</td>\n",
       "      <td>8.0</td>\n",
       "      <td>1007.0</td>\n",
       "      <td>1</td>\n",
       "    </tr>\n",
       "    <tr>\n",
       "      <th>2</th>\n",
       "      <td>60778383</td>\n",
       "      <td>1538352002409</td>\n",
       "      <td>235957.15</td>\n",
       "      <td>6326.321919</td>\n",
       "      <td>N</td>\n",
       "      <td>1024.551739</td>\n",
       "      <td>E</td>\n",
       "      <td>2</td>\n",
       "      <td>12.0</td>\n",
       "      <td>0.6</td>\n",
       "      <td>3.35</td>\n",
       "      <td>M</td>\n",
       "      <td>40.95</td>\n",
       "      <td>M</td>\n",
       "      <td>9.0</td>\n",
       "      <td>1007.0</td>\n",
       "      <td>1</td>\n",
       "    </tr>\n",
       "    <tr>\n",
       "      <th>3</th>\n",
       "      <td>60778384</td>\n",
       "      <td>1538352003409</td>\n",
       "      <td>235958.15</td>\n",
       "      <td>6326.321916</td>\n",
       "      <td>N</td>\n",
       "      <td>1024.551739</td>\n",
       "      <td>E</td>\n",
       "      <td>2</td>\n",
       "      <td>12.0</td>\n",
       "      <td>0.7</td>\n",
       "      <td>3.35</td>\n",
       "      <td>M</td>\n",
       "      <td>40.95</td>\n",
       "      <td>M</td>\n",
       "      <td>10.0</td>\n",
       "      <td>1007.0</td>\n",
       "      <td>1</td>\n",
       "    </tr>\n",
       "    <tr>\n",
       "      <th>4</th>\n",
       "      <td>60778385</td>\n",
       "      <td>1538352004408</td>\n",
       "      <td>235959.15</td>\n",
       "      <td>6326.321912</td>\n",
       "      <td>N</td>\n",
       "      <td>1024.551737</td>\n",
       "      <td>E</td>\n",
       "      <td>2</td>\n",
       "      <td>12.0</td>\n",
       "      <td>0.7</td>\n",
       "      <td>3.36</td>\n",
       "      <td>M</td>\n",
       "      <td>40.95</td>\n",
       "      <td>M</td>\n",
       "      <td>11.0</td>\n",
       "      <td>1007.0</td>\n",
       "      <td>1</td>\n",
       "    </tr>\n",
       "  </tbody>\n",
       "</table>\n",
       "</div>"
      ],
      "text/plain": [
       "        uid     time_in_ms        UTC     Latitude NorthSouth    Longitude  \\\n",
       "0  60778381  1538352000409  235955.15  6326.321921          N  1024.551737   \n",
       "1  60778382  1538352001409  235956.15  6326.321918          N  1024.551734   \n",
       "2  60778383  1538352002409  235957.15  6326.321919          N  1024.551739   \n",
       "3  60778384  1538352003409  235958.15  6326.321916          N  1024.551739   \n",
       "4  60778385  1538352004408  235959.15  6326.321912          N  1024.551737   \n",
       "\n",
       "  EastWest  Quality  NoOfSatellites  HorPrecision  AntennaAltitude  \\\n",
       "0        E        2            12.0           0.7             3.38   \n",
       "1        E        2            12.0           0.7             3.37   \n",
       "2        E        2            12.0           0.6             3.35   \n",
       "3        E        2            12.0           0.7             3.35   \n",
       "4        E        2            12.0           0.7             3.36   \n",
       "\n",
       "  AntennaUnits  GeoidalSeparation GeoidalUnits  DgpsAge  DiffRefStation  \\\n",
       "0            M              40.95            M      7.0          1007.0   \n",
       "1            M              40.95            M      8.0          1007.0   \n",
       "2            M              40.95            M      9.0          1007.0   \n",
       "3            M              40.95            M     10.0          1007.0   \n",
       "4            M              40.95            M     11.0          1007.0   \n",
       "\n",
       "   TelegramReceived  \n",
       "0                 1  \n",
       "1                 1  \n",
       "2                 1  \n",
       "3                 1  \n",
       "4                 1  "
      ]
     },
     "metadata": {},
     "output_type": "display_data"
    }
   ],
   "source": [
    "display(df.head())"
   ]
  },
  {
   "cell_type": "code",
   "execution_count": 8,
   "metadata": {},
   "outputs": [
    {
     "data": {
      "text/plain": [
       "1944475"
      ]
     },
     "metadata": {},
     "output_type": "display_data"
    }
   ],
   "source": [
    "display(len(df))"
   ]
  },
  {
   "cell_type": "code",
   "execution_count": 22,
   "metadata": {},
   "outputs": [],
   "source": [
    "# Create a latitude and longitude location\n",
    "loc = pd.DataFrame({\n",
    "    \"time_in_ms\": df[\"time_in_ms\"].values,\n",
    "    \"Latitude\": df[\"Latitude\"].values,\n",
    "    \"Longitude\": df[\"Longitude\"].values\n",
    "})"
   ]
  },
  {
   "cell_type": "code",
   "execution_count": 23,
   "metadata": {},
   "outputs": [
    {
     "data": {
      "text/html": [
       "<div>\n",
       "<style scoped>\n",
       "    .dataframe tbody tr th:only-of-type {\n",
       "        vertical-align: middle;\n",
       "    }\n",
       "\n",
       "    .dataframe tbody tr th {\n",
       "        vertical-align: top;\n",
       "    }\n",
       "\n",
       "    .dataframe thead th {\n",
       "        text-align: right;\n",
       "    }\n",
       "</style>\n",
       "<table border=\"1\" class=\"dataframe\">\n",
       "  <thead>\n",
       "    <tr style=\"text-align: right;\">\n",
       "      <th></th>\n",
       "      <th>time_in_ms</th>\n",
       "      <th>Latitude</th>\n",
       "      <th>Longitude</th>\n",
       "    </tr>\n",
       "  </thead>\n",
       "  <tbody>\n",
       "    <tr>\n",
       "      <th>0</th>\n",
       "      <td>1538352000409</td>\n",
       "      <td>6326.321921</td>\n",
       "      <td>1024.551737</td>\n",
       "    </tr>\n",
       "    <tr>\n",
       "      <th>1</th>\n",
       "      <td>1538352001409</td>\n",
       "      <td>6326.321918</td>\n",
       "      <td>1024.551734</td>\n",
       "    </tr>\n",
       "    <tr>\n",
       "      <th>2</th>\n",
       "      <td>1538352002409</td>\n",
       "      <td>6326.321919</td>\n",
       "      <td>1024.551739</td>\n",
       "    </tr>\n",
       "    <tr>\n",
       "      <th>3</th>\n",
       "      <td>1538352003409</td>\n",
       "      <td>6326.321916</td>\n",
       "      <td>1024.551739</td>\n",
       "    </tr>\n",
       "    <tr>\n",
       "      <th>4</th>\n",
       "      <td>1538352004408</td>\n",
       "      <td>6326.321912</td>\n",
       "      <td>1024.551737</td>\n",
       "    </tr>\n",
       "  </tbody>\n",
       "</table>\n",
       "</div>"
      ],
      "text/plain": [
       "      time_in_ms     Latitude    Longitude\n",
       "0  1538352000409  6326.321921  1024.551737\n",
       "1  1538352001409  6326.321918  1024.551734\n",
       "2  1538352002409  6326.321919  1024.551739\n",
       "3  1538352003409  6326.321916  1024.551739\n",
       "4  1538352004408  6326.321912  1024.551737"
      ]
     },
     "metadata": {},
     "output_type": "display_data"
    }
   ],
   "source": [
    "display(loc.head())"
   ]
  },
  {
   "cell_type": "code",
   "execution_count": 24,
   "metadata": {},
   "outputs": [],
   "source": [
    "loc.to_csv('output_data/localization.csv', sep=\";\")"
   ]
  },
  {
   "cell_type": "code",
   "execution_count": 25,
   "metadata": {},
   "outputs": [],
   "source": [
    "# definitions for the axes\n",
    "left, width = 0.1, 0.9\n",
    "bottom, height =  0.1, 0.65\n",
    "\n",
    "rect_scatter = [left, bottom, width, height]"
   ]
  },
  {
   "cell_type": "code",
   "execution_count": 26,
   "metadata": {},
   "outputs": [
    {
     "data": {
      "image/png": "[encoded data removed]",
      "text/plain": [
       "<Figure size 720x720 with 1 Axes>"
      ]
     },
     "metadata": {
      "needs_background": "light"
     },
     "output_type": "display_data"
    }
   ],
   "source": [
    "# start with a rectangular Figure\n",
    "fig = plt.figure(1, figsize=(10,10))\n",
    "axScatter = plt.axes(rect_scatter)\n",
    "\n",
    "# the scatter plot:\n",
    "axScatter.scatter(loc.Latitude.values, loc.Longitude.values, s=.1)\n",
    "axScatter.grid()\n",
    "axScatter.set_xlabel(\"Latitude\")\n",
    "axScatter.set_ylabel(\"Longitude\")\n",
    "axScatter.axis('equal')\n",
    "plt.show()"
   ]
  },
  {
   "cell_type": "code",
   "execution_count": 27,
   "metadata": {},
   "outputs": [],
   "source": [
    "# Here os taken the list of points in which the graphic seems broken and have a variation over 1%\n",
    "diff_list = []\n",
    "\n",
    "lenght = len(loc[\"Longitude\"]) - 1\n",
    "\n",
    "if (os.path.isfile('./output_data/diff_list.csv')):\n",
    "    teste = pd.read_csv('diff_list.csv', header=None, sep=\";\")\n",
    "    diff_list = teste.values\n",
    "else:\n",
    "    # Tanking the one that has at least 1% of difference\n",
    "    arr = np.array([])\n",
    "    for i in range(lenght):\n",
    "        dist = math.fabs((loc[\"Longitude\"][i+1] - loc[\"Longitude\"][i])/loc[\"Longitude\"][i])\n",
    "        if (dist > 0.001):\n",
    "            diff_list.append(i)   \n",
    "\n",
    "    arr = np.append(arr, diff_list)\n",
    "    np.savetxt('output_data/diff_list.csv', [arr], delimiter=';', fmt='%d')"
   ]
  },
  {
   "cell_type": "code",
   "execution_count": 28,
   "metadata": {},
   "outputs": [
    {
     "data": {
      "text/plain": [
       "12"
      ]
     },
     "metadata": {},
     "output_type": "display_data"
    }
   ],
   "source": [
    "display(len(diff_list[0]))"
   ]
  },
  {
   "cell_type": "code",
   "execution_count": null,
   "metadata": {},
   "outputs": [],
   "source": []
  }
 ],
 "metadata": {
  "kernelspec": {
   "display_name": "Python 3",
   "language": "python",
   "name": "python3"
  },
  "language_info": {
   "codemirror_mode": {
    "name": "ipython",
    "version": 3
   },
   "file_extension": ".py",
   "mimetype": "text/x-python",
   "name": "python",
   "nbconvert_exporter": "python",
   "pygments_lexer": "ipython3",
   "version": "3.7.3"
  }
 },
 "nbformat": 4,
 "nbformat_minor": 2
}
